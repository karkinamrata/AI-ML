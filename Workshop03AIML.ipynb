{
  "nbformat": 4,
  "nbformat_minor": 0,
  "metadata": {
    "colab": {
      "provenance": []
    },
    "kernelspec": {
      "name": "python3",
      "display_name": "Python 3"
    },
    "language_info": {
      "name": "python"
    }
  },
  "cells": [
    {
      "cell_type": "markdown",
      "source": [
        "# Implementation of MCP Neuron for AND and OR Function."
      ],
      "metadata": {
        "id": "IY-_Zy_b71lD"
      }
    },
    {
      "cell_type": "code",
      "source": [
        "def MCP_Neurons_AND(X1, X2, T=2):\n",
        "    \"\"\"\n",
        "    Implements basic AND operation using MCP Neuron.\n",
        "\n",
        "    Parameters:\n",
        "    X1 (list): First binary input array.\n",
        "    X2 (list): Second binary input array.\n",
        "    T (int): Threshold value for AND gate (default = 2).\n",
        "\n",
        "    Returns:\n",
        "    list: Neuron output state for each input pair.\n",
        "    \"\"\"\n",
        "    assert len(X1) == len(X2)\n",
        "\n",
        "    state_neuron = []\n",
        "    for x1, x2 in zip(X1, X2):\n",
        "        state_neuron.append(1 if (x1 + x2) >= T else 0)\n",
        "\n",
        "    return state_neuron\n",
        "\n",
        "# Example usage\n",
        "X1 = [0, 0, 1, 1]\n",
        "X2 = [0, 1, 0, 1]\n",
        "T = 2\n",
        "print(f\"AND Gate Output: {MCP_Neurons_AND(X1, X2, T)}\")\n"
      ],
      "metadata": {
        "id": "Fu-YDOe_8GJi",
        "colab": {
          "base_uri": "https://localhost:8080/"
        },
        "outputId": "e926f013-5a21-4ef2-83eb-46c76dec4e01"
      },
      "execution_count": 1,
      "outputs": [
        {
          "output_type": "stream",
          "name": "stdout",
          "text": [
            "AND Gate Output: [0, 0, 0, 1]\n"
          ]
        }
      ]
    },
    {
      "cell_type": "code",
      "source": [
        "def MCP_Neurons_OR(X1, X2, T=1):\n",
        "    \"\"\"\n",
        "    Implements basic OR operation using MCP Neuron.\n",
        "\n",
        "    Parameters:\n",
        "    X1 (list): First binary input array.\n",
        "    X2 (list): Second binary input array.\n",
        "    T (int): Threshold value for OR gate (default = 1).\n",
        "\n",
        "    Returns:\n",
        "    list: Neuron output state for each input pair.\n",
        "    \"\"\"\n",
        "    assert len(X1) == len(X2)\n",
        "\n",
        "    state_neuron = []\n",
        "    for x1, x2 in zip(X1, X2):\n",
        "        state_neuron.append(1 if (x1 + x2) >= T else 0)\n",
        "\n",
        "    return state_neuron\n",
        "\n",
        "# Example usage\n",
        "T = 1\n",
        "print(f\"OR Gate Output: {MCP_Neurons_OR(X1, X2, T)}\")\n"
      ],
      "metadata": {
        "colab": {
          "base_uri": "https://localhost:8080/"
        },
        "id": "e2-lKfat8ocN",
        "outputId": "931d9360-b00a-43ee-956a-1fab89265711"
      },
      "execution_count": 2,
      "outputs": [
        {
          "output_type": "stream",
          "name": "stdout",
          "text": [
            "OR Gate Output: [0, 1, 1, 1]\n"
          ]
        }
      ]
    },
    {
      "cell_type": "markdown",
      "source": [
        "# Implementation for 0 Vs. 1 Classification."
      ],
      "metadata": {
        "id": "Apa9bfLIFJHe"
      }
    },
    {
      "cell_type": "markdown",
      "source": [
        "## Step 1: Load the Dataset"
      ],
      "metadata": {
        "id": "iom83mGLFP_1"
      }
    },
    {
      "cell_type": "code",
      "source": [
        "import pandas as pd\n",
        "import numpy as np\n",
        "import matplotlib.pyplot as plt\n",
        "\n",
        "\n",
        "# Load the dataset\n",
        "df_0_1 = pd.read_csv(\"/content/mnist_0_and_1.csv\")  # Add the correct file path if necessary\n",
        "\n",
        "# Extract features and labels\n",
        "X = df_0_1.drop(columns=[\"label\"]).values  # 784 pixels\n",
        "y = df_0_1[\"label\"].values  # Labels (0 or 1)\n",
        "\n",
        "# Check the shape of the features and labels\n",
        "print(\"Feature matrix shape:\", X.shape)\n",
        "print(\"Label vector shape:\", y.shape)\n"
      ],
      "metadata": {
        "colab": {
          "base_uri": "https://localhost:8080/"
        },
        "id": "7rkW58ct9IYq",
        "outputId": "8b8e7b09-4482-493b-ce57-be5a26772378"
      },
      "execution_count": 5,
      "outputs": [
        {
          "output_type": "stream",
          "name": "stdout",
          "text": [
            "Feature matrix shape: (12665, 784)\n",
            "Label vector shape: (12665,)\n"
          ]
        }
      ]
    },
    {
      "cell_type": "markdown",
      "source": [
        "### Viewing the Dataset."
      ],
      "metadata": {
        "id": "jlq0EY2jHheD"
      }
    },
    {
      "cell_type": "code",
      "source": [
        "# Separate images for label 0 and label 1\n",
        "images_0 = X[y == 0]  # Get all images with label 0\n",
        "images_1 = X[y == 1]  # Get all images with label 1\n",
        "\n",
        "fig, axes = plt.subplots(2, 5, figsize=(10, 5))\n",
        "\n",
        "# Check if the arrays have the required amount of data\n",
        "if len(images_0) < 5 or len(images_1) < 5:\n",
        "    print(\"Error: Not enough images in images_0 or images_1 to plot 5 images.\")\n",
        "else:\n",
        "    for i in range(5):\n",
        "        # Plot digit 0\n",
        "        axes[0, i].imshow(images_0[i].reshape(28, 28), cmap=\"gray\")\n",
        "        axes[0, i].set_title(\"Label: 0\")\n",
        "        axes[0, i].axis(\"off\")\n",
        "        # Plot digit 1\n",
        "        axes[1, i].imshow(images_1[i].reshape(28, 28), cmap=\"gray\")\n",
        "        axes[1, i].set_title(\"Label: 1\")\n",
        "        axes[1, i].axis(\"off\")\n",
        "    plt.suptitle(\"First 5 Images of 0 and 1 from MNIST Subset\")\n",
        "    plt.show()"
      ],
      "metadata": {
        "colab": {
          "base_uri": "https://localhost:8080/",
          "height": 451
        },
        "id": "XKY2qjhCHAZ7",
        "outputId": "cf0c5518-0c71-4b46-b368-ae18a4be89be"
      },
      "execution_count": 6,
      "outputs": [
        {
          "output_type": "display_data",
          "data": {
            "text/plain": [
              "<Figure size 1000x500 with 10 Axes>"
            ],
            "image/png": "[encoded data removed]"
          },
          "metadata": {}
        }
      ]
    },
    {
      "cell_type": "markdown",
      "source": [
        "## Step - 2 - Initializing the Weights:"
      ],
      "metadata": {
        "id": "qyM34tbHIqGi"
      }
    },
    {
      "cell_type": "code",
      "source": [
        "# Initialize weights and bias\n",
        "weights = np.zeros(X.shape[1])  # 784 weights for each pixel\n",
        "bias = 0\n",
        "learning_rate = 0.1\n",
        "epochs = 100\n"
      ],
      "metadata": {
        "id": "SMsXaZ38HfBI"
      },
      "execution_count": 7,
      "outputs": []
    },
    {
      "cell_type": "markdown",
      "source": [
        "## Step - 3 - Make a Decision function:"
      ],
      "metadata": {
        "id": "EvraDxaeRVeo"
      }
    },
    {
      "cell_type": "code",
      "source": [
        "def decision_function(X, weights, bias):\n",
        "    \"\"\"\n",
        "    Computes predictions using the perceptron activation function.\n",
        "\n",
        "    Parameters:\n",
        "    X (ndarray): Input feature matrix.\n",
        "    weights (ndarray): Trained weights.\n",
        "    bias (float): Bias term.\n",
        "\n",
        "    Returns:\n",
        "    ndarray: Predicted labels (0 or 1).\n",
        "    \"\"\"\n",
        "    predictions = np.dot(X, weights) + bias\n",
        "    return np.where(predictions >= 0, 1, 0)  # Step function\n"
      ],
      "metadata": {
        "id": "6uVj75txLWQi"
      },
      "execution_count": 8,
      "outputs": []
    },
    {
      "cell_type": "markdown",
      "source": [
        "## Step - 3 - Implement the Perceptron Learning Algorithm"
      ],
      "metadata": {
        "id": "AVZNGyRdI4I4"
      }
    },
    {
      "cell_type": "code",
      "source": [
        "def train_perceptron(X, y, weights, bias, learning_rate=0.1, epochs=100):\n",
        "    \"\"\"\n",
        "    Trains a perceptron using the Perceptron Learning Algorithm.\n",
        "\n",
        "    Parameters:\n",
        "    X (ndarray): Feature matrix.\n",
        "    y (ndarray): Target labels.\n",
        "    weights (ndarray): Initial weights.\n",
        "    bias (float): Initial bias.\n",
        "    learning_rate (float): Learning rate.\n",
        "    epochs (int): Number of training iterations.\n",
        "\n",
        "    Returns:\n",
        "    tuple: Updated weights, updated bias, and accuracy.\n",
        "    \"\"\"\n",
        "    for epoch in range(epochs):\n",
        "        correct = 0\n",
        "        for i in range(len(y)):\n",
        "            output = np.dot(X[i], weights) + bias\n",
        "            prediction = 1 if output >= 0 else 0\n",
        "\n",
        "            # Update if misclassified\n",
        "            if prediction != y[i]:\n",
        "                weights += learning_rate * (y[i] - prediction) * X[i]\n",
        "                bias += learning_rate * (y[i] - prediction)\n",
        "            else:\n",
        "                correct += 1\n",
        "\n",
        "        accuracy = correct / len(y)\n",
        "        print(f\"Epoch {epoch+1}/{epochs} - Accuracy: {accuracy:.4f}\")\n",
        "\n",
        "        if accuracy == 1.0:  # Stop early if perfect\n",
        "            break\n",
        "\n",
        "    return weights, bias, accuracy\n",
        "\n",
        "# Train the perceptron\n",
        "weights, bias, accuracy = train_perceptron(X, y, weights, bias)\n",
        "print(\"Final Accuracy:\", accuracy)\n"
      ],
      "metadata": {
        "id": "Dg1ocrycJWpA",
        "colab": {
          "base_uri": "https://localhost:8080/"
        },
        "outputId": "d2f0546b-6437-46b8-ed0b-0353f6e822d7"
      },
      "execution_count": 9,
      "outputs": [
        {
          "output_type": "stream",
          "name": "stdout",
          "text": [
            "Epoch 1/100 - Accuracy: 0.9967\n",
            "Epoch 2/100 - Accuracy: 0.9982\n",
            "Epoch 3/100 - Accuracy: 0.9987\n",
            "Epoch 4/100 - Accuracy: 0.9987\n",
            "Epoch 5/100 - Accuracy: 0.9990\n",
            "Epoch 6/100 - Accuracy: 0.9993\n",
            "Epoch 7/100 - Accuracy: 0.9998\n",
            "Epoch 8/100 - Accuracy: 0.9995\n",
            "Epoch 9/100 - Accuracy: 0.9989\n",
            "Epoch 10/100 - Accuracy: 0.9992\n",
            "Epoch 11/100 - Accuracy: 0.9995\n",
            "Epoch 12/100 - Accuracy: 0.9998\n",
            "Epoch 13/100 - Accuracy: 1.0000\n",
            "Final Accuracy: 1.0\n"
          ]
        }
      ]
    },
    {
      "cell_type": "markdown",
      "source": [
        "## Training the Perceptron"
      ],
      "metadata": {
        "id": "Va6AGI6iMAG9"
      }
    },
    {
      "cell_type": "code",
      "source": [
        "import matplotlib.pyplot as plt\n",
        "\n",
        "# Get predictions\n",
        "y_pred = decision_function(X, weights, bias)\n",
        "\n",
        "# Identify misclassified indices\n",
        "misclassified_idx = np.where(y_pred != y)[0]\n",
        "\n",
        "if len(misclassified_idx) > 0:\n",
        "    fig, axes = plt.subplots(2, 5, figsize=(10, 5))\n",
        "\n",
        "    for ax, idx in zip(axes.flat, misclassified_idx[:10]):  # Show 10 misclassified images\n",
        "        ax.imshow(X[idx].reshape(28, 28), cmap=\"gray\")\n",
        "        ax.set_title(f\"Pred: {y_pred[idx]}, True: {y[idx]}\")\n",
        "        ax.axis(\"off\")\n",
        "\n",
        "    plt.suptitle(\"Misclassified Images\")\n",
        "    plt.show()\n",
        "else:\n",
        "    print(\"All images were correctly classified!\")\n"
      ],
      "metadata": {
        "colab": {
          "base_uri": "https://localhost:8080/"
        },
        "id": "cn8XBYuZLswI",
        "outputId": "0a54b3fe-800c-410d-ff53-694a364aa1be"
      },
      "execution_count": 10,
      "outputs": [
        {
          "output_type": "stream",
          "name": "stdout",
          "text": [
            "All images were correctly classified!\n"
          ]
        }
      ]
    },
    {
      "cell_type": "markdown",
      "source": [
        "## Step 5: Visualize Misclassified Images"
      ],
      "metadata": {
        "id": "-SLq1jbSMKPm"
      }
    },
    {
      "cell_type": "code",
      "source": [
        "df_3_5 = pd.read_csv(\"/content/mnist_3_and_5.csv\")  # Load dataset\n",
        "\n",
        "X = df_3_5.drop(columns=[\"label\"]).values\n",
        "y = df_3_5[\"label\"].values\n",
        "\n",
        "# Train the perceptron\n",
        "weights, bias, accuracy = train_perceptron(X, y, weights, bias)\n",
        "print(\"Final Accuracy on 3 vs 5:\", accuracy)\n",
        "\n",
        "# Visualize misclassified images\n",
        "y_pred = decision_function(X, weights, bias)\n",
        "misclassified_idx = np.where(y_pred != y)[0]\n",
        "\n",
        "if len(misclassified_idx) > 0:\n",
        "    fig, axes = plt.subplots(2, 5, figsize=(10, 5))\n",
        "\n",
        "    for ax, idx in zip(axes.flat, misclassified_idx[:10]):\n",
        "        ax.imshow(X[idx].reshape(28, 28), cmap=\"gray\")\n",
        "        ax.set_title(f\"Pred: {y_pred[idx]}, True: {y[idx]}\")\n",
        "        ax.axis(\"off\")\n",
        "\n",
        "    plt.suptitle(\"Misclassified Images\")\n",
        "    plt.show()\n",
        "else:\n",
        "    print(\"All images were correctly classified!\")\n"
      ],
      "metadata": {
        "colab": {
          "base_uri": "https://localhost:8080/",
          "height": 1000
        },
        "id": "KAMz1RPGMN_A",
        "outputId": "ae004a10-795e-4bd1-93c1-752e55465c65"
      },
      "execution_count": 12,
      "outputs": [
        {
          "output_type": "stream",
          "name": "stdout",
          "text": [
            "Epoch 1/100 - Accuracy: 0.0000\n",
            "Epoch 2/100 - Accuracy: 0.0000\n",
            "Epoch 3/100 - Accuracy: 0.0000\n",
            "Epoch 4/100 - Accuracy: 0.0000\n",
            "Epoch 5/100 - Accuracy: 0.0000\n",
            "Epoch 6/100 - Accuracy: 0.0000\n",
            "Epoch 7/100 - Accuracy: 0.0000\n",
            "Epoch 8/100 - Accuracy: 0.0000\n",
            "Epoch 9/100 - Accuracy: 0.0000\n",
            "Epoch 10/100 - Accuracy: 0.0000\n",
            "Epoch 11/100 - Accuracy: 0.0000\n",
            "Epoch 12/100 - Accuracy: 0.0000\n",
            "Epoch 13/100 - Accuracy: 0.0000\n",
            "Epoch 14/100 - Accuracy: 0.0000\n",
            "Epoch 15/100 - Accuracy: 0.0000\n",
            "Epoch 16/100 - Accuracy: 0.0000\n",
            "Epoch 17/100 - Accuracy: 0.0000\n",
            "Epoch 18/100 - Accuracy: 0.0000\n",
            "Epoch 19/100 - Accuracy: 0.0000\n",
            "Epoch 20/100 - Accuracy: 0.0000\n",
            "Epoch 21/100 - Accuracy: 0.0000\n",
            "Epoch 22/100 - Accuracy: 0.0000\n",
            "Epoch 23/100 - Accuracy: 0.0000\n",
            "Epoch 24/100 - Accuracy: 0.0000\n",
            "Epoch 25/100 - Accuracy: 0.0000\n",
            "Epoch 26/100 - Accuracy: 0.0000\n",
            "Epoch 27/100 - Accuracy: 0.0000\n",
            "Epoch 28/100 - Accuracy: 0.0000\n",
            "Epoch 29/100 - Accuracy: 0.0000\n",
            "Epoch 30/100 - Accuracy: 0.0000\n",
            "Epoch 31/100 - Accuracy: 0.0000\n",
            "Epoch 32/100 - Accuracy: 0.0000\n",
            "Epoch 33/100 - Accuracy: 0.0000\n",
            "Epoch 34/100 - Accuracy: 0.0000\n",
            "Epoch 35/100 - Accuracy: 0.0000\n",
            "Epoch 36/100 - Accuracy: 0.0000\n",
            "Epoch 37/100 - Accuracy: 0.0000\n",
            "Epoch 38/100 - Accuracy: 0.0000\n",
            "Epoch 39/100 - Accuracy: 0.0000\n",
            "Epoch 40/100 - Accuracy: 0.0000\n",
            "Epoch 41/100 - Accuracy: 0.0000\n",
            "Epoch 42/100 - Accuracy: 0.0000\n",
            "Epoch 43/100 - Accuracy: 0.0000\n",
            "Epoch 44/100 - Accuracy: 0.0000\n",
            "Epoch 45/100 - Accuracy: 0.0000\n",
            "Epoch 46/100 - Accuracy: 0.0000\n",
            "Epoch 47/100 - Accuracy: 0.0000\n",
            "Epoch 48/100 - Accuracy: 0.0000\n",
            "Epoch 49/100 - Accuracy: 0.0000\n",
            "Epoch 50/100 - Accuracy: 0.0000\n",
            "Epoch 51/100 - Accuracy: 0.0000\n",
            "Epoch 52/100 - Accuracy: 0.0000\n",
            "Epoch 53/100 - Accuracy: 0.0000\n",
            "Epoch 54/100 - Accuracy: 0.0000\n",
            "Epoch 55/100 - Accuracy: 0.0000\n",
            "Epoch 56/100 - Accuracy: 0.0000\n",
            "Epoch 57/100 - Accuracy: 0.0000\n",
            "Epoch 58/100 - Accuracy: 0.0000\n",
            "Epoch 59/100 - Accuracy: 0.0000\n",
            "Epoch 60/100 - Accuracy: 0.0000\n",
            "Epoch 61/100 - Accuracy: 0.0000\n",
            "Epoch 62/100 - Accuracy: 0.0000\n",
            "Epoch 63/100 - Accuracy: 0.0000\n",
            "Epoch 64/100 - Accuracy: 0.0000\n",
            "Epoch 65/100 - Accuracy: 0.0000\n",
            "Epoch 66/100 - Accuracy: 0.0000\n",
            "Epoch 67/100 - Accuracy: 0.0000\n",
            "Epoch 68/100 - Accuracy: 0.0000\n",
            "Epoch 69/100 - Accuracy: 0.0000\n",
            "Epoch 70/100 - Accuracy: 0.0000\n",
            "Epoch 71/100 - Accuracy: 0.0000\n",
            "Epoch 72/100 - Accuracy: 0.0000\n",
            "Epoch 73/100 - Accuracy: 0.0000\n",
            "Epoch 74/100 - Accuracy: 0.0000\n",
            "Epoch 75/100 - Accuracy: 0.0000\n",
            "Epoch 76/100 - Accuracy: 0.0000\n",
            "Epoch 77/100 - Accuracy: 0.0000\n",
            "Epoch 78/100 - Accuracy: 0.0000\n",
            "Epoch 79/100 - Accuracy: 0.0000\n",
            "Epoch 80/100 - Accuracy: 0.0000\n",
            "Epoch 81/100 - Accuracy: 0.0000\n",
            "Epoch 82/100 - Accuracy: 0.0000\n",
            "Epoch 83/100 - Accuracy: 0.0000\n",
            "Epoch 84/100 - Accuracy: 0.0000\n",
            "Epoch 85/100 - Accuracy: 0.0000\n",
            "Epoch 86/100 - Accuracy: 0.0000\n",
            "Epoch 87/100 - Accuracy: 0.0000\n",
            "Epoch 88/100 - Accuracy: 0.0000\n",
            "Epoch 89/100 - Accuracy: 0.0000\n",
            "Epoch 90/100 - Accuracy: 0.0000\n",
            "Epoch 91/100 - Accuracy: 0.0000\n",
            "Epoch 92/100 - Accuracy: 0.0000\n",
            "Epoch 93/100 - Accuracy: 0.0000\n",
            "Epoch 94/100 - Accuracy: 0.0000\n",
            "Epoch 95/100 - Accuracy: 0.0000\n",
            "Epoch 96/100 - Accuracy: 0.0000\n",
            "Epoch 97/100 - Accuracy: 0.0000\n",
            "Epoch 98/100 - Accuracy: 0.0000\n",
            "Epoch 99/100 - Accuracy: 0.0000\n",
            "Epoch 100/100 - Accuracy: 0.0000\n",
            "Final Accuracy on 3 vs 5: 0.0\n"
          ]
        },
        {
          "output_type": "display_data",
          "data": {
            "text/plain": [
              "<Figure size 1000x500 with 10 Axes>"
            ],
            "image/png": "[encoded data removed]"
          },
          "metadata": {}
        }
      ]
    }
  ]
}